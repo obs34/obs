{
 "cells": [
  {
   "cell_type": "markdown",
   "metadata": {},
   "source": [
    "# Notebook de versement de données\n",
    "\n",
    "Ce notebook permet de verser des données Excel dans une base PostgreSQL."
   ]
  },
  {
   "cell_type": "markdown",
   "metadata": {},
   "source": [
    "## 1. Importation des packages"
   ]
  },
  {
   "cell_type": "code",
   "execution_count": null,
   "metadata": {},
   "outputs": [],
   "source": [
    "import sys\n",
    "sys.path.append('..')\n",
    "\n",
    "from script.body.base_donnees import ConnectionBaseDeDonnees\n",
    "from script.body.livre import Livre\n",
    "from script.body.traitement import Traitement\n",
    "from script.body.versement import Versement\n",
    "from script.branch.gestion_dossier import GestionDossier\n",
    "from script.leaf.validator import DataValidator\n",
    "from script.leaf.catalogue import Catalogue\n",
    "from script.branch.gomme import Gomme"
   ]
  },
  {
   "cell_type": "markdown",
   "metadata": {},
   "source": [
    "## 2. Configuration de la connexion"
   ]
  },
  {
   "cell_type": "code",
   "execution_count": null,
   "metadata": {},
   "outputs": [],
   "source": [
    "# Connexion à la base de données\n",
    "db = ConnectionBaseDeDonnees()\n",
    "conn, schema = db.connexion_observatoire()"
   ]
  },
  {
   "cell_type": "markdown",
   "metadata": {},
   "source": [
    "## 3. Configuration du versement"
   ]
  },
  {
   "cell_type": "code",
   "execution_count": null,
   "metadata": {},
   "outputs": [],
   "source": [
    "# Paramètres du versement\n",
    "fichier_excel = \"../data/hola.xlsx\"\n",
    "annee = 2025\n",
    "theme = \"NOMTHEME\"\n",
    "base = \"NOMBASE\"\n",
    "source = \"NOMSOURCE\"\n",
    "\n",
    "# Validation du fichier\n",
    "if not DataValidator.validate_excel_file(fichier_excel):\n",
    "    raise ValueError(\"Fichier Excel invalide.\")\n",
    "else:\n",
    "    print(\"Fichier Excel valide.\")\n",
    "\n",
    "# Enregistrement des paramètres du versement\n",
    "livre = Livre(\n",
    "    conn, \n",
    "    schema=schema, \n",
    "    theme=theme,\n",
    "    base=base, \n",
    "    source=source, \n",
    "    annee=annee\n",
    ")\n",
    "livre.echelle = livre.choix_echelle()"
   ]
  },
  {
   "cell_type": "markdown",
   "metadata": {},
   "source": [
    "## Catalogue / Facultatif"
   ]
  },
  {
   "cell_type": "code",
   "execution_count": null,
   "metadata": {},
   "outputs": [],
   "source": [
    "catalogue = Catalogue(livre)\n",
    "catalogue.liste_table(afficher=True)"
   ]
  },
  {
   "cell_type": "code",
   "execution_count": null,
   "metadata": {},
   "outputs": [],
   "source": [
    "catalogue.catalogue()"
   ]
  },
  {
   "cell_type": "markdown",
   "metadata": {},
   "source": [
    "## 4. Traitement des données"
   ]
  },
  {
   "cell_type": "code",
   "execution_count": null,
   "metadata": {},
   "outputs": [],
   "source": [
    "# Traitement des données\n",
    "traiteur = Traitement(conn, fichier_excel, livre)\n",
    "traiteur.traitement()"
   ]
  },
  {
   "cell_type": "markdown",
   "metadata": {},
   "source": [
    "## 5. Sauvegarde en base de données"
   ]
  },
  {
   "cell_type": "code",
   "execution_count": null,
   "metadata": {},
   "outputs": [],
   "source": [
    "# Sauvegarde des données\n",
    "versement = Versement(conn, livre)\n",
    "versement.versement()"
   ]
  },
  {
   "cell_type": "markdown",
   "metadata": {},
   "source": [
    "## 6. Suppression des fichiers temporaires"
   ]
  },
  {
   "cell_type": "code",
   "execution_count": null,
   "metadata": {},
   "outputs": [],
   "source": [
    "gestionnaire_de_dossier = GestionDossier(livre)\n",
    "gestionnaire_de_dossier.delete_folder()"
   ]
  },
  {
   "cell_type": "markdown",
   "metadata": {},
   "source": [
    "## 7. Suppression de table / versement"
   ]
  },
  {
   "cell_type": "code",
   "execution_count": null,
   "metadata": {},
   "outputs": [],
   "source": [
    "gomme = Gomme(conn, livre)\n",
    "gomme.suppression_table(table_cible='', id_versement_cible=3, garder_table=False)"
   ]
  },
  {
   "cell_type": "markdown",
   "metadata": {},
   "source": [
    "## 8. Ajout des contraintes sur les tables en production"
   ]
  },
  {
   "cell_type": "code",
   "execution_count": null,
   "metadata": {},
   "outputs": [],
   "source": [
    "# Connexion à la base de données\n",
    "db = ConnectionBaseDeDonnees()\n",
    "conn, schema = db.connexion_observatoire()\n",
    "\n",
    "theme = \"NOMTHEME\"\n",
    "base = \"NOMBASE\"\n",
    "source = \"NOMSOURCE\"\n",
    "annee=2025\n",
    "\n",
    "livre = Livre(\n",
    "    conn, \n",
    "    schema=schema, \n",
    "    theme=theme,\n",
    "    base=base, \n",
    "    source=source, \n",
    "    annee=annee\n",
    ")"
   ]
  },
  {
   "cell_type": "code",
   "execution_count": null,
   "metadata": {},
   "outputs": [],
   "source": [
    "livre.relations = {'primaire': {'contrainte_table_valeur': 'id_composite',\n",
    "  'contrainte_test_mod': 'id_mod',\n",
    "  'contrainte_test_var': 'id_var',\n",
    "  'contrainte_test_vers': 'id_versement'},\n",
    " 'etrangere': {'contrainte_test_mod': ('id_mod', 'id_mod'),\n",
    "  'contrainte_test_var': ('id_var', 'id_var'),\n",
    "  'contrainte_test_vers': ('id_versement', 'id_versement')}}"
   ]
  },
  {
   "cell_type": "code",
   "execution_count": null,
   "metadata": {},
   "outputs": [],
   "source": [
    "versement = Versement(conn, livre)\n",
    "tables = [\n",
    "    'contrainte_table_valeur', # livre.nom_table,\n",
    "    # 'contrainte_test_var', # livre.nom_table_var,\n",
    "    # 'contrainte_test_mod', # livre.nom_table_mod,\n",
    "    # 'contrainte_test_vers', # livre.nom_table_vers,\n",
    "]\n",
    "print(schema)\n",
    "for nom in tables:\n",
    "    print(nom)\n",
    "versement.ajout_contraintes(schema, tables)"
   ]
  }
 ],
 "metadata": {
  "kernelspec": {
   "display_name": "venv_vers",
   "language": "python",
   "name": "python3"
  },
  "language_info": {
   "codemirror_mode": {
    "name": "ipython",
    "version": 3
   },
   "file_extension": ".py",
   "mimetype": "text/x-python",
   "name": "python",
   "nbconvert_exporter": "python",
   "pygments_lexer": "ipython3",
   "version": "3.13.2"
  }
 },
 "nbformat": 4,
 "nbformat_minor": 4
}
